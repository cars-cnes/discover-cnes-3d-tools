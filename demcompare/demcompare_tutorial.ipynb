{
 "cells": [
  {
   "cell_type": "markdown",
   "id": "482ae900",
   "metadata": {
    "editable": true,
    "slideshow": {
     "slide_type": "slide"
    },
    "tags": [
     "title"
    ]
   },
   "source": [
    "<img src=\"img/logo_demcompare.png\" alt=\"Demcompare logo\" width=\"200\" align=\"right\"/>\n",
    "\n",
    "# Demcompare Tutorial\n",
    "\n",
    "Demcompare Team\n",
    "\n",
    "\n",
    "\n"
   ]
  },
  {
   "cell_type": "markdown",
   "id": "0fedc9b2",
   "metadata": {
    "editable": true,
    "slideshow": {
     "slide_type": "slide"
    },
    "tags": []
   },
   "source": [
    "# Outline\n",
    "\n",
    "* Tutorial preparation\n",
    "* Context\n",
    "* How Demcompare works?\n",
    "* High level design\n",
    "* Quickstart\n",
    "* Command Line Interface examples\n"
   ]
  },
  {
   "cell_type": "markdown",
   "id": "275d703e",
   "metadata": {
    "editable": true,
    "slideshow": {
     "slide_type": "slide"
    },
    "tags": []
   },
   "source": [
    "<img src=\"img/logo_demcompare.png\" alt=\"Demcompare logo\" width=\"100\" align=\"right\"/>\n",
    "\n",
    "# Tutorial preparation"
   ]
  },
  {
   "cell_type": "markdown",
   "id": "a31013ca",
   "metadata": {
    "editable": true,
    "slideshow": {
     "slide_type": "subslide"
    },
    "tags": []
   },
   "source": [
    "## Preparation \n",
    "\n",
    "Prerequisites: \n",
    "```\n",
    "python >= 3.8\n",
    "python-venv or virtualenv\n",
    "web access\n",
    "```     \n"
   ]
  },
  {
   "cell_type": "markdown",
   "id": "2e2329f3",
   "metadata": {
    "editable": true,
    "slideshow": {
     "slide_type": "subslide"
    },
    "tags": []
   },
   "source": [
    "## Demcompare install from pypi\n",
    "\n",
    "Demcompare install: \n",
    "\n",
    "    python -m venv venv # virtualenv venv init\n",
    "    source ./venv/bin/activate # enter the virtualenv\n",
    "    pip install --upgrade pip\n",
    "    pip install demcompare[notebook]\n"
   ]
  },
  {
   "cell_type": "markdown",
   "id": "13fab9c7",
   "metadata": {
    "editable": true,
    "slideshow": {
     "slide_type": "subslide"
    },
    "tags": []
   },
   "source": [
    "## Jupyter notebook preparation\n",
    "\n",
    "Install Jupyter packages in previous virtualenv: \n",
    "\n",
    "```\n",
    "source ./venv/bin/activate # enter the virtualenv\n",
    "pip install notebook rise bokeh\n",
    "# add any tool you may need through pip install\n",
    "```\n",
    "\n",
    "Build Jupyter kernel:\n",
    "```\n",
    "python -m ipykernel install --sys-prefix --name=Demcompare-kernel --display-name=Demcompare-kernel\n",
    "```\n",
    "\n",
    "Jupyter environnement: \n",
    "``` \n",
    "jupyter notebook\n",
    "```"
   ]
  },
  {
   "cell_type": "markdown",
   "id": "a634cbdb",
   "metadata": {
    "editable": true,
    "slideshow": {
     "slide_type": "slide"
    },
    "tags": []
   },
   "source": [
    "<img src=\"img/logo_demcompare.png\" alt=\"Demcompare logo\" width=\"100\" align=\"right\"/>\n",
    "\n",
    "# Context"
   ]
  },
  {
   "cell_type": "markdown",
   "id": "a7af090c-9e82-49c9-bfd3-4e5c3c87f2db",
   "metadata": {
    "editable": true,
    "slideshow": {
     "slide_type": "subslide"
    },
    "tags": []
   },
   "source": [
    "## Demcompare in a nutshell\n",
    "\n",
    "Demcompare aims at **comparing two DEMs together**.\n",
    "\n",
    "Demcompare has several benefits:\n",
    "\n",
    "- Works whether or not the two DEMs share common format projection system, planimetric resolution, and altimetric unit.\n",
    "- Performs the coregistration based on the Nuth & Kääb universal coregistration method.\n",
    "- Computes the statistics on an input DEM, or on the difference of two input DEMs.\n",
    "- Provides a wide variety of standard metrics and allows one to classify the DEMs to obtain statistics by class.\n",
    "\n",
    "*Open to contributions: remarks, bugs, ... !*\n",
    "\n",
    "License:  Apache-2.0\n",
    "\n",
    "<img src=\"img/logo_demcompare.png\" alt=\"Demcompare logo\" width=\"200\" align=\"right\"/>\n",
    "\n",
    "Web sites:\n",
    "\n",
    "- [https://github.com/cnes/Demcompare/](https://github.com/cnes/Demcompare/)\n",
    "- [https://demcompare.readthedocs.io/](https://demcompare.readthedocs.io/)\n",
    "\n",
    "\n",
    "\n",
    "    "
   ]
  },
  {
   "cell_type": "markdown",
   "id": "b1212de7-f6cd-41ae-9501-0836e75fe39a",
   "metadata": {
    "editable": true,
    "slideshow": {
     "slide_type": "subslide"
    },
    "tags": []
   },
   "source": [
    "## Projects context\n",
    "\n",
    "- [CO3D project](https://co3d.cnes.fr/en/co3d-0): four small satellites in the CO3D constellation to map the whole globe in 3D\n",
    "- [AI4GEO](https://www.ai4geo.eu/) : production of automatic 3D geospatial information based on IA technologies.\n",
    "- Internal studies, internships, phd, ...\n",
    "\n",
    "\n",
    "<img src=\"img/logo_co3D_cnes.jpg\" alt=\"CO3D logo\" width=\"200\" align=\"left\"/>\n",
    "<img src=\"img/logo_ai4geo.png\" alt=\"AI4GEO logo\" width=\"200\" align=\"right\" style=\"background-color:black;\"/>\n",
    "\n",
    "\n"
   ]
  },
  {
   "cell_type": "markdown",
   "id": "d5462fc9-b9b8-4c9f-8799-d29d4ad8a66b",
   "metadata": {
    "editable": true,
    "slideshow": {
     "slide_type": "subslide"
    },
    "tags": []
   },
   "source": [
    "### Authors \n",
    "\n",
    "* Emmanuel Dubois <emmanuel.dubois@cnes.fr>\n",
    "* Emmanuelle Sarrazin <emmanuelle.sarrazin@cnes.fr>\n",
    "* Natalia Jimenez <natalia.jimenez-diaz@csgroup.eu>\n",
    "* Alice de Bardonnèche-Richard <alice.de-bardonneche-richard@csgroup.eu>\n",
    "\n",
    "See [Authors.md](https://raw.githubusercontent.com/CNES/Demcompare/master/AUTHORS.md) for full contributions in Github repository.\n",
    "\n",
    "### Copyright\n",
    "\n",
    "- CNES Copyright to ease maintenance with Contributor License Aggrement.\n",
    "\n",
    "### Contributions\n",
    "\n",
    "See [Contributing documentation](https://demcompare.readthedocs.io/en/latest/developer_guide/contributing.html)"
   ]
  },
  {
   "cell_type": "markdown",
   "id": "420f0722-6acb-4bc2-987a-0264c101480f",
   "metadata": {
    "editable": true,
    "slideshow": {
     "slide_type": "subslide"
    },
    "tags": []
   },
   "source": [
    "### Glossary\n",
    "\n",
    "DSM : Digital Surface Model\n",
    "\n",
    "DEM: Digital Elevation Model. Usually means all elevation models in raster: DSM, DTM,…\n",
    "\n",
    "DSM: Digital Surface Model. Represents the earth’s surface and includes all objects on it. Demcompare generates DSMs. \n",
    "\n",
    "DTM: Digital Terrain Model. Represents bare ground surface without any objects like plants and buildings.\n",
    "\n",
    "ROI: Region of Interest means a subpart of a DSM raster.\n",
    "\n"
   ]
  },
  {
   "cell_type": "markdown",
   "id": "bbeb1d1b-6bda-473a-b74e-8a47ccf7d5a7",
   "metadata": {
    "editable": true,
    "slideshow": {
     "slide_type": "subslide"
    },
    "tags": []
   },
   "source": [
    "### Related tools\n",
    "\n",
    "- CARS: [https://github.com/cnes/cars](https://github.com/cnes/cars)\n",
    "- Bulldozer: [https://github.com/cnes/bulldozer](https://github.com/cnes/bulldozer)\n",
    "\n"
   ]
  },
  {
   "cell_type": "markdown",
   "id": "e8b26e35",
   "metadata": {
    "editable": true,
    "slideshow": {
     "slide_type": "slide"
    },
    "tags": []
   },
   "source": [
    "<img src=\"img/logo_demcompare.png\" alt=\"Demcompare logo\" width=\"100\" align=\"right\"/>\n",
    "\n",
    "# How Demcompare works?"
   ]
  },
  {
   "cell_type": "markdown",
   "id": "ca3fdef3",
   "metadata": {
    "editable": true,
    "slideshow": {
     "slide_type": "subslide"
    },
    "tags": []
   },
   "source": [
    "## Demcompare pipeline\n",
    "\n"
   ]
  },
  {
   "cell_type": "markdown",
   "id": "9fb7641c",
   "metadata": {
    "editable": true,
    "jp-MarkdownHeadingCollapsed": true,
    "slideshow": {
     "slide_type": "subslide"
    },
    "tags": []
   },
   "source": [
    "## Demcompare coregistration\n"
   ]
  },
  {
   "cell_type": "markdown",
   "id": "08b7dbca-29aa-4554-ad5c-493e3dce3620",
   "metadata": {
    "editable": true,
    "jp-MarkdownHeadingCollapsed": true,
    "slideshow": {
     "slide_type": "subslide"
    },
    "tags": []
   },
   "source": [
    "## Demcompare statistics\n"
   ]
  },
  {
   "cell_type": "markdown",
   "id": "3de3645f-2329-4b2d-a9a8-cf6854f21431",
   "metadata": {
    "editable": true,
    "jp-MarkdownHeadingCollapsed": true,
    "slideshow": {
     "slide_type": "subslide"
    },
    "tags": []
   },
   "source": [
    "## Demcompare report (experimental)\n"
   ]
  },
  {
   "cell_type": "markdown",
   "id": "78cf8135",
   "metadata": {
    "editable": true,
    "slideshow": {
     "slide_type": "slide"
    },
    "tags": []
   },
   "source": [
    "<img src=\"img/logo_demcompare.png\" alt=\"Demcompare logo\" width=\"100\" align=\"right\"/>\n",
    "\n",
    "# Quickstart"
   ]
  },
  {
   "cell_type": "markdown",
   "id": "74f37c6d-de1b-4cf4-9281-0a7290441a9d",
   "metadata": {
    "editable": true,
    "slideshow": {
     "slide_type": "subslide"
    },
    "tags": []
   },
   "source": [
    "## Quickstart\n",
    "\n",
    "```\n",
    "# download data samples\n",
    "wget https://raw.githubusercontent.com/CNES/demcompare/master/data_samples/srtm_blurred_and_shifted.tif\n",
    "wget https://raw.githubusercontent.com/CNES/demcompare/master/data_samples/srtm_ref.tif\n",
    "\n",
    "# download demcompare predefined configuration\n",
    "wget https://raw.githubusercontent.com/CNES/demcompare/master/data_samples/sample_config.json\n",
    "\n",
    "# run demcompare\n",
    "demcompare sample_config.json\n",
    "```\n",
    "\n",
    "Warning: Internet needed to download demo data."
   ]
  },
  {
   "cell_type": "markdown",
   "id": "2351eaa6-a688-4cf6-9411-b4863d675d30",
   "metadata": {
    "editable": true,
    "slideshow": {
     "slide_type": "subslide"
    },
    "tags": []
   },
   "source": [
    "## Quick start outputs\n",
    "\n",
    "```\n",
    "demcompare sample_config.json\n",
    "2023-06-24/18:38:13 :: INFO :: *** Demcompare ***\n",
    "2023-06-24/18:38:13 :: INFO :: Output directory: /tmp/test_output\n",
    "2023-06-24/18:38:14 :: INFO :: Input Reference DEM (REF): /tmp/./srtm_ref.tif\n",
    "2023-06-24/18:38:14 :: INFO :: Input Secondary DEM (SEC): /tmp/./srtm_blurred_and_shifted.tif\n",
    "2023-06-24/18:38:14 :: INFO :: [Coregistration]\n",
    "2023-06-24/18:38:14 :: INFO :: Coregistration method name: nuth_kaab_internal\n",
    "2023-06-24/18:38:16 :: INFO :: Coregistration results:\n",
    "2023-06-24/18:38:16 :: INFO :: Planimetry 2D shift between reprojected SEC and REF:\n",
    "2023-06-24/18:38:16 :: INFO ::  -> row : 0.00417 m\n",
    "2023-06-24/18:38:16 :: INFO ::  -> col : 0.0025 m\n",
    "2023-06-24/18:38:16 :: INFO :: GDAL translate bounds:\n",
    "2023-06-24/18:38:16 :: INFO ::  -> ulx : 40.00 , -> uly : 40.00 , -> lrx : 40.83 , -> lry : 39.17 \n",
    "2023-06-24/18:38:16 :: INFO :: Altimetry shift between reprojected SEC and REF (not applied):\n",
    "2023-06-24/18:38:16 :: INFO ::  -> alti : -0.01764540854150804 m\n",
    "2023-06-24/18:38:17 :: INFO :: [Stats]\n",
    "2023-06-24/18:38:17 :: INFO :: (COREG_REF-COREG_SEC) altimetric stats generation\n",
    "2023-06-24/18:38:26 :: INFO :: [Report]\n",
    "2023-06-24/18:38:33 :: INFO :: Generated report: /tmp/test_output/./report/published_report\n",
    "```"
   ]
  },
  {
   "cell_type": "markdown",
   "id": "6f86df17-3e56-49cc-b907-fb97058780da",
   "metadata": {
    "editable": true,
    "slideshow": {
     "slide_type": "subslide"
    },
    "tags": []
   },
   "source": [
    "## Quick start results\n",
    "\n",
    "<table><tr>\n",
    "<td> \n",
    "  <p align=\"center\" style=\"padding: 10px\">\n",
    "    <img alt=\"Initial diff snapshot\" src=\"img/initial_dem_diff_snapshot.png\" width=\"200\">\n",
    "  </p> \n",
    "</td>\n",
    "<td> \n",
    "  <p align=\"center\" style=\"padding: 10px\">\n",
    "    <img alt=\"Final diff snapshot\" src=\"img/final_dem_diff_snapshot.png\" width=\"200\">\n",
    "  </p> \n",
    "</td>\n",
    "</tr>\n",
    "<tr>\n",
    "<td>\n",
    "    <em>initial diff</em>\n",
    "</td>\n",
    "<td>\n",
    "    <em>final diff</em>\n",
    "</td>\n",
    "</tr>\n",
    "</table>"
   ]
  },
  {
   "cell_type": "markdown",
   "id": "30844f38-90ac-4eaa-8de4-e37ad6f6c49c",
   "metadata": {
    "editable": true,
    "slideshow": {
     "slide_type": "subslide"
    },
    "tags": []
   },
   "source": [
    "## Quick start details\n",
    "\n",
    "1. See input data\n",
    "   - Input Raster DEM reference: REF\n",
    "   - Input Raster DEM secondary: SEC\n",
    "\n",
    " "
   ]
  },
  {
   "cell_type": "markdown",
   "id": "caecadfe-a751-48dd-a95f-a2280a78eeeb",
   "metadata": {
    "editable": true,
    "slideshow": {
     "slide_type": "subslide"
    },
    "tags": []
   },
   "source": [
    "## Quick start details\n",
    "\n",
    "2. See sample configuration\n",
    "\n",
    "```\n",
    "{\n",
    "    \"output_dir\": \"./test_output/\",\n",
    "\t\"input_ref\" : {\n",
    "\t\t\"path\" : \"./srtm_ref.tif\",\n",
    "\t\t\"zunit\" : \"m\"\n",
    "\t},\n",
    "\t\"input_sec\" : {\n",
    "\t\t\"path\" : \"./srtm_blurred_and_shifted.tif\",\n",
    "\t\t\"zunit\" : \"m\",\n",
    "\t\t\"nodata\" : -32768\n",
    "\t},\n",
    "\t\"coregistration\": {\n",
    "\t\t\"method_name\": \"nuth_kaab_internal\",\n",
    "\t\t\"number_of_iterations\": 6,\n",
    "\t\t\"estimated_initial_shift_x\": 0,\n",
    "\t\t\"estimated_initial_shift_y\": 0\n",
    "\t},\n",
    "  \"statistics\": {\n",
    "    \"classification_layers\": {\n",
    "      \"Slope0\": {\n",
    "        \"type\": \"slope\",\n",
    "        \"ranges\": [\n",
    "          0,\n",
    "          5,\n",
    "          10,\n",
    "          25,\n",
    "          45\n",
    "        ]\n",
    "      }\n",
    "    },\n",
    "    \"remove_outliers\": \"True\"\n",
    "  },\n",
    "  \"report\": \"default\"\n",
    "}\n",
    "\n",
    "```"
   ]
  }
 ],
 "metadata": {
  "celltoolbar": "Diaporama",
  "kernelspec": {
   "display_name": "Python 3 (ipykernel)",
   "language": "python",
   "name": "python3"
  },
  "language_info": {
   "codemirror_mode": {
    "name": "ipython",
    "version": 3
   },
   "file_extension": ".py",
   "mimetype": "text/x-python",
   "name": "python",
   "nbconvert_exporter": "python",
   "pygments_lexer": "ipython3",
   "version": "3.10.6"
  },
  "toc-showtags": false,
  "vscode": {
   "interpreter": {
    "hash": "41cef69d03cc8776cafbc952f48c668dc1c9a7aacaa94fd78ea743f1bb88c986"
   }
  }
 },
 "nbformat": 4,
 "nbformat_minor": 5
}
