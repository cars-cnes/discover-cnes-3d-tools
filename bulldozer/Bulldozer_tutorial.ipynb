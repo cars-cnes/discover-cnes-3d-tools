{
 "cells": [
  {
   "cell_type": "markdown",
   "metadata": {
    "slideshow": {
     "slide_type": "slide"
    }
   },
   "source": [
    "<img src=\"images/bulldozer_logo.png\" alt=\"Bulldozer logo\" width=\"200\" align=\"right\"/>\n",
    "\n",
    "# Bulldozer Tutorial (FOSS4G)\n",
    "\n",
    "Dimitri Lallement (dimitri.lallement@cnes.fr)\n"
   ]
  },
  {
   "cell_type": "markdown",
   "metadata": {
    "slideshow": {
     "slide_type": "slide"
    }
   },
   "source": [
    "# Outline\n",
    "\n",
    "* Tutorial preparation\n",
    "* Bulldozer context\n",
    "* How Bulldozer works?\n",
    "* Run Bulldozer\n",
    "* Upcoming works"
   ]
  },
  {
   "cell_type": "markdown",
   "metadata": {
    "slideshow": {
     "slide_type": "slide"
    }
   },
   "source": [
    "<img src=\"images/bulldozer_logo.png\" alt=\"Bulldozer logo\" width=\"200\" align=\"right\"/>\n",
    "\n",
    "# Tutorial preparation"
   ]
  },
  {
   "cell_type": "markdown",
   "metadata": {
    "slideshow": {
     "slide_type": "subslide"
    }
   },
   "source": [
    "## Preparation\n",
    "\n",
    "### Requirements\n",
    "\n",
    "- python>=3.8\n",
    "- python-venv or virtualenv\n",
    "- web access\n",
    "\n",
    "### Environment setup\n",
    "\n",
    "It is recommended to install **Bulldozer** into a virtual environment, like [conda](https://docs.conda.io/en/latest/) or [virtualenv](https://virtualenv.pypa.io/en/latest/).  \n",
    "Environment setup with `virtualenv`:\n",
    "```sh\n",
    "python -m venv bulldozer_venv\n",
    "source bulldozer_venv/bin/activate\n",
    "```"
   ]
  },
  {
   "cell_type": "markdown",
   "metadata": {
    "slideshow": {
     "slide_type": "subslide"
    }
   },
   "source": [
    "## Installation\n",
    "\n",
    "### Using Github\n",
    "\n",
    "```sh\n",
    "# Clone the project\n",
    "git clone https://github.com/CNES/bulldozer.git\n",
    "cd bulldozer/\n",
    "\n",
    "# Install the library\n",
    "pip install .\n",
    "```\n",
    "\n",
    "*Install check: When you run `bulldozer --version` you should get `v1.0.0`*"
   ]
  },
  {
   "cell_type": "markdown",
   "metadata": {
    "slideshow": {
     "slide_type": "subslide"
    }
   },
   "source": [
    "## Jupyter notebook preparation\n",
    "\n",
    "Install Jupyter packages in previous virtualenv: \n",
    "\n",
    "```\n",
    "pip install notebook rise bokeh\n",
    "```\n",
    "\n",
    "Build Jupyter kernel:\n",
    "```\n",
    "python -m ipykernel install --sys-prefix --name=bulldozer-kernel --display-name=bulldozer-kernel\n",
    "```\n",
    "\n",
    "Jupyter environnement: \n",
    "``` \n",
    "jupyter notebook\n",
    "```"
   ]
  },
  {
   "cell_type": "markdown",
   "metadata": {
    "slideshow": {
     "slide_type": "slide"
    }
   },
   "source": [
    "<img src=\"images/bulldozer_logo.png\" alt=\"Bulldozer logo\" width=\"200\" align=\"right\"/>\n",
    "\n",
    "# Bulldozer context"
   ]
  },
  {
   "cell_type": "markdown",
   "metadata": {
    "slideshow": {
     "slide_type": "subslide"
    }
   },
   "source": [
    "## Bulldozer, a DTM extraction tool\n",
    "\n",
    "<img src=\"images/result_overview.gif\" alt=\"Bulldozer overview\" width=\"300\" align=\"right\"/>\n",
    "\n",
    "**Bulldozer** is designed as a pipeline of standalone functions that aims to extract a *Digital Terrain Model* (DTM) from a *Digital Surface Model* (DSM) without any exogenous data.  \n",
    "\n",
    "Main goals: \n",
    "\n",
    "- offer an DTM extraction tool that doesn't require any other data (land cover map, water mask, etc.)\n",
    "- process large scale DSM (scalability and stability)\n",
    "- set of standalone functions: you can use the functions without running the full pipeline\n",
    "- compatible with any raster format DSM\n",
    "- easy to install, easy to run\n",
    "\n",
    "*Be aware that Bulldozer is new and still in devlopment. Feel free to communicate your needs to the team :)*\n",
    "\n",
    "License:  Apache-2.0\n",
    "\n",
    "Links:\n",
    "\n",
    "- Repository: [github.com/cnes/bulldozer/](https://github.com/cnes/bulldozer/)\n",
    "- ISPRS Publication: [D. Lallement, P. Lassalle, Y. Ott, R. Demortier, and J. Delvit, 2022. BULLDOZER: AN AUTOMATIC SELF-DRIVEN LARGE SCALE DTM EXTRACTION METHOD FROM DIGITAL SURFACE MODEL. ISPRS - International Archives of the Photogrammetry, Remote Sensing and Spatial Information Sciences.](https://www.int-arch-photogramm-remote-sens-spatial-inf-sci.net/XLIII-B2-2022/409/2022/)"
   ]
  },
  {
   "cell_type": "markdown",
   "metadata": {
    "slideshow": {
     "slide_type": "subslide"
    }
   },
   "source": [
    "## Projects context\n",
    "\n",
    "Bulldozer was initially designed by the CNES in the AI4GEO project to handle large scale CARS DSM.  \n",
    "But now we aim to address more use cases like the DSM generated in the IGN Lidar HD project for example.\n",
    "\n",
    "<img src=\"images/logo_cars.png\" alt=\"CARS logo\" width=\"200\" align=\"left\"/>\n",
    "<img src=\"images/AI4GEO_logo.png\" alt=\"AI4GEO logo\" width=\"200\" align=\"left\"/>\n",
    "<img src=\"images/logo_lidarHD.png\" alt=\"LidarHD logo\" width=\"200\" align=\"left\"/>"
   ]
  },
  {
   "cell_type": "markdown",
   "metadata": {
    "slideshow": {
     "slide_type": "subslide"
    }
   },
   "source": [
    "### Authors \n",
    "\n",
    "* Dimitri Lallement <dimitri.lallement@cnes.fr>\n",
    "* Pierre Lassalle <pierre.lassalle@cnes.fr>\n",
    "* Yanncik Ott <yannick.ott@cnes.fr>\n",
    "\n",
    "See [Authors.md](https://raw.githubusercontent.com/CNES/bulldozer/master/AUTHORS.md) for full contributions in Github repository.\n",
    "\n",
    "### Contributions\n",
    "\n",
    "To do a bug report or a contribution, see the [**Contribution Guide**](https://raw.githubusercontent.com/CNES/bulldozer/master/CONTRIBUTING.md).  \n",
    "\n",
    "For any help or suggestion, feel free to contact the authors."
   ]
  },
  {
   "cell_type": "markdown",
   "metadata": {
    "slideshow": {
     "slide_type": "subslide"
    }
   },
   "source": [
    "### Glossary\n",
    "\n",
    "<img src=\"images/dsm_dtm_dhm_illustration.png\" alt=\"DEMs illustration\" width=\"300\" align=\"right\"/>\n",
    "\n",
    "**DEM:** Digital Elevation Model. Usually means all elevation models in raster: DSM, DTM,…\n",
    "\n",
    "**DSM:** Digital Surface Model. Represents the earth’s surface and includes all objects on it. \n",
    "\n",
    "**DTM:** Digital Terrain Model. Represents bare ground surface without any objects like trees or buildings.\n",
    "\n",
    "**DHM:** Digital Height Model. Represents the elevation of the foreground."
   ]
  },
  {
   "cell_type": "markdown",
   "metadata": {
    "slideshow": {
     "slide_type": "slide"
    }
   },
   "source": [
    "<img src=\"images/bulldozer_logo.png\" alt=\"Bulldozer logo\" width=\"200\" align=\"right\"/>\n",
    "\n",
    "# How Bulldozer works ?"
   ]
  },
  {
   "cell_type": "markdown",
   "metadata": {
    "slideshow": {
     "slide_type": "subslide"
    }
   },
   "source": [
    "## Main concept\n",
    "\n",
    "**Bulldozer** is based on a modified version of the multi-scale Drap Cloth principle: \n",
    "<img src=\"images/Bulldozer_concept.png\" alt=\"Bulldozer concept\" width=\"600\" align=\"center\"/>"
   ]
  },
  {
   "cell_type": "markdown",
   "metadata": {
    "slideshow": {
     "slide_type": "subslide"
    }
   },
   "source": [
    "## Drap Cloth method\n",
    "\n",
    "<img src=\"images/drap_cloth_simulation.png\" alt=\"DrapCloth method\" width=\"600\" align=\"center\"/>"
   ]
  },
  {
   "cell_type": "markdown",
   "metadata": {
    "slideshow": {
     "slide_type": "subslide"
    }
   },
   "source": [
    "## Tension process\n",
    "<img src=\"images/tension.png\" alt=\"Tension process\" width=\"600\" align=\"center\"/>"
   ]
  },
  {
   "cell_type": "markdown",
   "metadata": {
    "slideshow": {
     "slide_type": "subslide"
    }
   },
   "source": [
    "## Drap Cloth limits\n",
    "\n",
    "<img src=\"images/noisy_dsm.png\" alt=\"Noisy DSM\" width=\"450\" align=\"right\"/>\n",
    "\n",
    "- Nodata handling\n",
    "- Noisy input DSM\n",
    "- No landscape adaptation\n",
    "- No consideration of the input DSM (resolution, size, etc.)\n",
    "- Scalability and stability\n",
    "- Computational performances\n",
    "\n"
   ]
  },
  {
   "cell_type": "markdown",
   "metadata": {
    "slideshow": {
     "slide_type": "subslide"
    }
   },
   "source": [
    "## Bulldozer target\n",
    "\n",
    "- Large scale DTM\n",
    "- Without exogenous data\n",
    "- Handles both photogrammetric and Lidar DSM\n",
    "- Perfoms on noisy DSM\n",
    "- Low complexity O(n) and scalable\n",
    "- Outperforms existing methods\n",
    "- Adapts to hardware ressources\n",
    "- Accessible through a Python API\n",
    "- Adaptative output resolution"
   ]
  },
  {
   "cell_type": "markdown",
   "metadata": {
    "slideshow": {
     "slide_type": "subslide"
    }
   },
   "source": [
    "## Bulldozer compared to DrapCloth\n",
    "\n",
    "<img src=\"images/result.png\" alt=\"Tension process\" width=\"600\" align=\"center\"/>"
   ]
  },
  {
   "cell_type": "markdown",
   "metadata": {
    "slideshow": {
     "slide_type": "subslide"
    }
   },
   "source": [
    "## Bulldozer pipeline\n",
    "\n",
    "**Bulldozer** is designed as a pipeline of standalone functions that aims to extract a *Digital Terrain Model* (DTM) from a *Digital Surface Model* (DSM).  \n",
    "But you can also use one of the following function without running the full pipeline:\n",
    "* **DSM preprocessing**\n",
    "    * **Nodata extraction:** a group of methods to differentiate and extract nodata related to failed correlations during the DSM computation and those of the image border\n",
    "    * **Disturbed areas detection:** a method to locate disturbed areas. These noisy areas are mainly related to areas in which the correlator has incorrectly estimated the elevation (water or shadow areas).\n",
    "* **DTM extraction**\n",
    "    * **DTM computation:** the main method that extracts the DTM from the preprocessed DSM.\n",
    "* **DTM postprocessing**\n",
    "    * **Pits detection:** a method to detect pits in the provided raster and return the corresponding mask.\n",
    "    * **Pits filling:** a method to fill pits in the generated DTM (or input raster).\n",
    "    * **DHM computation:** a method to extract the *Digital Height Model* (DHM).\n"
   ]
  },
  {
   "cell_type": "markdown",
   "metadata": {},
   "source": [
    "## Interfaces\n",
    "\n",
    "### Inputs\n",
    "\n",
    "**Bulldozer** requires a raster format DSM file and an output directory (if the providing path doesn't exist, **Bulldozer** will generates it).  \n",
    "You can provides those data in the config file or by passing it in the Python API.\n",
    "\n",
    "### Outputs\n",
    "\n",
    "**Bulldozer** will generate the `DTM.tif` file, the `DHM.tif` if you have activate the option, a `quality_mask.tif` and a log file.\n"
   ]
  },
  {
   "cell_type": "markdown",
   "metadata": {
    "slideshow": {
     "slide_type": "slide"
    }
   },
   "source": [
    "<img src=\"images/bulldozer_logo.png\" alt=\"Bulldozer logo\" width=\"200\" align=\"right\"/>\n",
    "\n",
    "## Run Bulldozer"
   ]
  },
  {
   "cell_type": "markdown",
   "metadata": {},
   "source": [
    "## Quickstart\n",
    "\n",
    "In order to run **Bulldozer** through the Command Line Interface (CLI), you have to create a configuration file.\n",
    "\n",
    "You can download the configuration file from the tutorial repository:\n",
    "```\n",
    "mkdir /tmp/bulldozer_tutorial/\n",
    "cd /tmp/bulldozer_tutorial/\n",
    "wget https://raw.githubusercontent.com/cars-cnes/discover-cnes-3d-tools/gh-pages/data_turkey/config_bulldozer_pre_event.yaml\n",
    "```\n",
    "\n",
    "Run **Bulldozer**: \n",
    "```\n",
    "bulldozer --conf config_bulldozer_pre_event.yaml\n",
    "```\n",
    "Done!\n",
    "\n",
    "\n",
    "*Warning: Internet needed to download demo data.*"
   ]
  },
  {
   "cell_type": "markdown",
   "metadata": {
    "slideshow": {
     "slide_type": "subslide"
    }
   },
   "source": [
    "## Configuration file\n",
    "\n",
    "Let's take a look at the configuration file structure.  \n",
    "The file is composed of four parts.  \n",
    "The first one is the main part (the only required elements in the config file):\n",
    "```yaml\n",
    "#-------------------------#\n",
    "#       Parameters        #\n",
    "#-------------------------#\n",
    "# Input DSM path (expected format: \"<folder_1>/<folder_2>/<file>.<[tif/tiff]>\")\n",
    "dsmPath : \"outputs_cars_pre_event/cars_dsm_pre_event.tif\"\n",
    "# Output directory path (if the directory doesn't exist, create it)\n",
    "outputDir : \"outputs_bulldozer_pre_event\"\n",
    "```"
   ]
  },
  {
   "cell_type": "markdown",
   "metadata": {
    "slideshow": {
     "slide_type": "subslide"
    }
   },
   "source": [
    "## Configuration file\n",
    "\n",
    "The second part is the options:\n",
    "```yaml\n",
    "#-------------------------#\n",
    "#         Options         #\n",
    "#-------------------------#\n",
    "# If True, generates the DHM (DSM - DTM) in the output directory \n",
    "generateDhm : True\n",
    "# If null, the output DTM resolution will be the same as the input DSM (float value in meter)\n",
    "outputResolution : null\n",
    "# If null, bulldozer will use the maximum number of available CPU on your system\n",
    "nbMaxWorkers : 16\n",
    "```"
   ]
  },
  {
   "cell_type": "markdown",
   "metadata": {
    "slideshow": {
     "slide_type": "subslide"
    }
   },
   "source": [
    "## Configuration file\n",
    "\n",
    "The third part is for the experimented users. Let see that:\n",
    "```yaml\n",
    "#-------------------------#\n",
    "#    Advanced settings    #\n",
    "#-------------------------#\n",
    "\n",
    "# Foreground max object width (in meter)\n",
    "maxObjectWidth : 16\n",
    "# If True, this flag allows snapping DTM values above the DSM to the DSM values in order to satisfy the property that DTM is always below the DSM.\n",
    "checkIntersection: False\n",
    "# Minimum valid height value, None or a float value. If null this parameter is ignored\n",
    "minValidHeight: 0.0\n",
    "# If null, the nodata value will be extracted from the input DSM (float value or nan)\n",
    "noData : null\n",
    "# If True, keep the intermediate results\n",
    "developperMode : False\n",
    "```"
   ]
  },
  {
   "cell_type": "markdown",
   "metadata": {
    "slideshow": {
     "slide_type": "subslide"
    }
   },
   "source": [
    "## Configuration file\n",
    "\n",
    "The last part is the core settings. We suggest to not modify those values:\n",
    "```yaml\n",
    "#-------------------------#\n",
    "# Bulldozer core settings #\n",
    "#-------------------------#\n",
    "# /!\\ Modify those data at your own risk (it is suggested to keep the default values) /!\\\n",
    "\n",
    "# DetectDisturbedAreasAndFill part\n",
    "slopeThreshold : 2.0\n",
    "# numnumber of evaluated axis. Vertical and horizontal if true else vertical, horizontal and diagonals.\n",
    "fourConnexity : True\n",
    "\n",
    "# DtmExtraction part\n",
    "uniformFilterSize : 3\n",
    "preventUnhookIter : 10\n",
    "numOuterIter : 50\n",
    "numInnerIter : 10\n",
    "mpTileSize : 1500\n",
    "```"
   ]
  },
  {
   "cell_type": "markdown",
   "metadata": {
    "slideshow": {
     "slide_type": "subslide"
    }
   },
   "source": [
    "## Bulldozer Python API\n",
    "\n",
    "\n",
    "You can run **Bulldozer** with Python API using the config file:\n",
    "```python\n",
    "from bulldozer.pipeline.bulldozer_pipeline import dsm_to_dtm\n",
    "\n",
    "dsm_to_dtm(config_path=\"conf/configuration_template.yaml\")\n",
    " ```\n",
    "Or by providing directly the input parameters (missing parameters will be replaced by default values):\n",
    " ```python\n",
    " from bulldozer.pipeline.bulldozer_pipeline import dsm_to_dtm\n",
    " # Example with a specific number of workers\n",
    " dsm_to_dtm(dsm_path=\"<input_dsm.tif>\", output_dir=\"<output_dir>\", nb_max_workers=16)\n",
    "```"
   ]
  },
  {
   "cell_type": "markdown",
   "metadata": {
    "slideshow": {
     "slide_type": "subslide"
    }
   },
   "source": [
    "## Advanced usage\n",
    "\n",
    "<img src=\"images/noise_detection.png\" alt=\"disturbed areas mask\" width=\"300\" align=\"right\"/>\n",
    "\n",
    "As we mentioned before, **Bulldozer** can also be used to launch in standalone the functions that compose the pipeline.  \n",
    "It can be helpfull if you want to detect disturbed areas (shadow, water, etc.) in a DSM, fill pits, etc. \n",
    "\n",
    "For each step of the pipeline you can follow one of the tutorial notebook:\n",
    "* [Running Bulldozer (full pipeline)](https://github.com/CNES/bulldozer/tree/master/docs/notebooks/0_bulldozer_pipeline.ipynb)\n",
    "* [Preprocessing standalone functions](https://github.com/CNES/bulldozer/tree/master/docs/notebooks/1_preprocess.ipynb)\n",
    "* [Extraction step](https://github.com/CNES/bulldozer/tree/master/docs/notebooks/2_DTM_extraction.ipynb)\n",
    "* [Postprocessing standalone functions](https://github.com/CNES/bulldozer/tree/master/docs/notebooks/3_postprocess.ipynb)"
   ]
  },
  {
   "cell_type": "markdown",
   "metadata": {
    "slideshow": {
     "slide_type": "slide"
    }
   },
   "source": [
    "<img src=\"images/bulldozer_logo.png\" alt=\"Bulldozer logo\" width=\"200\" align=\"right\"/>\n",
    "\n",
    "## What's next?"
   ]
  },
  {
   "cell_type": "markdown",
   "metadata": {
    "slideshow": {
     "slide_type": "subslide"
    }
   },
   "source": [
    "## Upcoming works\n",
    "\n",
    "- Interface harmonisation (very soon!)\n",
    "- External stability guarantee\n",
    "- Full mkdocs documentation\n",
    "- Publish unit tests\n",
    "- Try to share the QGIS module through the marketplace\n",
    "- Upgrade pits and disturbed areas detection"
   ]
  }
 ],
 "metadata": {
  "celltoolbar": "Diaporama",
  "kernelspec": {
   "display_name": "Python 3",
   "language": "python",
   "name": "python3"
  },
  "language_info": {
   "codemirror_mode": {
    "name": "ipython",
    "version": 3
   },
   "file_extension": ".py",
   "mimetype": "text/x-python",
   "name": "python",
   "nbconvert_exporter": "python",
   "pygments_lexer": "ipython3",
   "version": "3.8.5"
  }
 },
 "nbformat": 4,
 "nbformat_minor": 4
}
